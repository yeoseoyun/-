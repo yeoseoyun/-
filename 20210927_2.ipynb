{
  "nbformat": 4,
  "nbformat_minor": 0,
  "metadata": {
    "colab": {
      "name": "20210927-2.ipynb",
      "provenance": [],
      "authorship_tag": "ABX9TyMzxPD0rIrC2UedGxBy9Gkd",
      "include_colab_link": true
    },
    "kernelspec": {
      "name": "python3",
      "display_name": "Python 3"
    },
    "language_info": {
      "name": "python"
    }
  },
  "cells": [
    {
      "cell_type": "markdown",
      "metadata": {
        "id": "view-in-github",
        "colab_type": "text"
      },
      "source": [
        "<a href=\"https://colab.research.google.com/github/yeoseoyun/-/blob/main/20210927_2.ipynb\" target=\"_parent\"><img src=\"https://colab.research.google.com/assets/colab-badge.svg\" alt=\"Open In Colab\"/></a>"
      ]
    },
    {
      "cell_type": "code",
      "metadata": {
        "colab": {
          "base_uri": "https://localhost:8080/"
        },
        "id": "juWJ4E-R8kLL",
        "outputId": "f0463d2b-a090-48b4-df43-29f2175ae4ec"
      },
      "source": [
        "for i in range(2,101):\n",
        "  count = 0\n",
        "  for j in range(1,i+1):\n",
        "    if i%j==0:\n",
        "      count = count + 1\n",
        "  if count == 2:\n",
        "    print(i, end=' ')"
      ],
      "execution_count": null,
      "outputs": [
        {
          "output_type": "stream",
          "name": "stdout",
          "text": [
            "2 3 5 7 11 13 17 19 23 29 31 37 41 43 47 53 59 61 67 71 73 79 83 89 97 "
          ]
        }
      ]
    },
    {
      "cell_type": "code",
      "metadata": {
        "colab": {
          "base_uri": "https://localhost:8080/"
        },
        "id": "yIS8PeIy_1UM",
        "outputId": "62792afe-57ad-4f65-ec1c-a122d8e8ae20"
      },
      "source": [
        "primecount = 0\n",
        "\n",
        "for i in range(1000,10000):\n",
        "  count = 0\n",
        "  for j in range(1,i+1):\n",
        "    if i%j==0:\n",
        "      count = count + 1\n",
        "  if count == 2:\n",
        "    primecount = primecount + 1\n",
        "\n",
        "print(primecount)"
      ],
      "execution_count": null,
      "outputs": [
        {
          "output_type": "stream",
          "name": "stdout",
          "text": [
            "1061\n"
          ]
        }
      ]
    }
  ]
}