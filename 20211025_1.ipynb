{
  "nbformat": 4,
  "nbformat_minor": 0,
  "metadata": {
    "colab": {
      "name": "20211025-1.ipynb",
      "provenance": [],
      "authorship_tag": "ABX9TyMsxVZht2IaDW+t912RVeH0",
      "include_colab_link": true
    },
    "kernelspec": {
      "name": "python3",
      "display_name": "Python 3"
    },
    "language_info": {
      "name": "python"
    }
  },
  "cells": [
    {
      "cell_type": "markdown",
      "metadata": {
        "id": "view-in-github",
        "colab_type": "text"
      },
      "source": [
        "<a href=\"https://colab.research.google.com/github/yeoseoyun/-/blob/main/20211025_1.ipynb\" target=\"_parent\"><img src=\"https://colab.research.google.com/assets/colab-badge.svg\" alt=\"Open In Colab\"/></a>"
      ]
    },
    {
      "cell_type": "code",
      "metadata": {
        "id": "NHhVXeqyttjP"
      },
      "source": [
        "def solution(n):\n",
        "  sum = 0\n",
        "  while n>=1:\n",
        "    sum = sum + (n%10)\n",
        "    n = n // 10\n",
        "  return sum"
      ],
      "execution_count": null,
      "outputs": []
    },
    {
      "cell_type": "code",
      "metadata": {
        "colab": {
          "base_uri": "https://localhost:8080/"
        },
        "id": "QLzET8VWxY0n",
        "outputId": "26bc9002-d34e-4445-c3b4-1754cec50ada"
      },
      "source": [
        "print(solution(54))"
      ],
      "execution_count": null,
      "outputs": [
        {
          "output_type": "stream",
          "name": "stdout",
          "text": [
            "9\n"
          ]
        }
      ]
    },
    {
      "cell_type": "code",
      "metadata": {
        "id": "LapyOdTB5Ul0"
      },
      "source": [
        "def solution(word):\n",
        "    pivot = len(word)//2\n",
        "    \n",
        "    for i in range(1, pivot+1):\n",
        "        if word[pivot-i] != word[pivot+i]:\n",
        "            return False\n",
        "    \n",
        "    return True"
      ],
      "execution_count": null,
      "outputs": []
    },
    {
      "cell_type": "code",
      "metadata": {
        "colab": {
          "base_uri": "https://localhost:8080/"
        },
        "id": "5MRCdi296WU8",
        "outputId": "6d015856-59a6-4eb6-8a0c-3774a2803727"
      },
      "source": [
        "print(solution('level'))"
      ],
      "execution_count": null,
      "outputs": [
        {
          "output_type": "stream",
          "name": "stdout",
          "text": [
            "True\n"
          ]
        }
      ]
    },
    {
      "cell_type": "code",
      "metadata": {
        "id": "ZtbZqvlz-qJR"
      },
      "source": [
        "def solution(word):\n",
        "  myword = list(word)\n",
        "  for i in range(0,len(myword)//2):\n",
        "    if myword[i] == myword[len(myword)-i-1]:\n",
        "      continue\n",
        "    else:\n",
        "      return 'X'\n",
        "  return 'O'"
      ],
      "execution_count": null,
      "outputs": []
    },
    {
      "cell_type": "code",
      "metadata": {
        "colab": {
          "base_uri": "https://localhost:8080/"
        },
        "id": "vxCrcwR1Agyg",
        "outputId": "6314c766-501e-4951-d207-8da499ffb78a"
      },
      "source": [
        "print(solution('aabbaa'))"
      ],
      "execution_count": null,
      "outputs": [
        {
          "output_type": "stream",
          "name": "stdout",
          "text": [
            "O\n"
          ]
        }
      ]
    },
    {
      "cell_type": "code",
      "metadata": {
        "colab": {
          "base_uri": "https://localhost:8080/"
        },
        "id": "MwNs9hnPLB7D",
        "outputId": "df57961b-88f1-4f1d-d947-45177c943936"
      },
      "source": [
        "def solution(n):\n",
        "    if n < 2:\n",
        "        return n\n",
        "    cache = [0 for _ in range(n+1)]\n",
        "    cache[1] = 1\n",
        "    \n",
        "    for i in range(2, n+1):\n",
        "        cache[i] = cache[i-1] + cache[i-2]\n",
        "\n",
        "    return cache[n]\n",
        "\n",
        "print(solution(10))"
      ],
      "execution_count": null,
      "outputs": [
        {
          "output_type": "stream",
          "name": "stdout",
          "text": [
            "55\n"
          ]
        }
      ]
    }
  ]
}