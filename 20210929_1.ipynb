{
  "nbformat": 4,
  "nbformat_minor": 0,
  "metadata": {
    "colab": {
      "name": "20210929-1.ipynb",
      "provenance": [],
      "authorship_tag": "ABX9TyOG+PrMLCLumcOHYzAN1Pa5",
      "include_colab_link": true
    },
    "kernelspec": {
      "name": "python3",
      "display_name": "Python 3"
    },
    "language_info": {
      "name": "python"
    }
  },
  "cells": [
    {
      "cell_type": "markdown",
      "metadata": {
        "id": "view-in-github",
        "colab_type": "text"
      },
      "source": [
        "<a href=\"https://colab.research.google.com/github/yeoseoyun/-/blob/main/20210929_1.ipynb\" target=\"_parent\"><img src=\"https://colab.research.google.com/assets/colab-badge.svg\" alt=\"Open In Colab\"/></a>"
      ]
    },
    {
      "cell_type": "code",
      "metadata": {
        "colab": {
          "base_uri": "https://localhost:8080/"
        },
        "id": "FgFhAiVJ-9y4",
        "outputId": "df8d721e-8f03-4b55-ca91-111d11ad76a4"
      },
      "source": [
        "import random\n",
        "\n",
        "num = random.randrange(1,100)\n",
        "\n",
        "print(num)"
      ],
      "execution_count": null,
      "outputs": [
        {
          "output_type": "stream",
          "name": "stdout",
          "text": [
            "18\n"
          ]
        }
      ]
    },
    {
      "cell_type": "code",
      "metadata": {
        "colab": {
          "base_uri": "https://localhost:8080/"
        },
        "id": "qMOrJBZfAawA",
        "outputId": "d714b518-07aa-4d09-b600-a2a0aa304677"
      },
      "source": [
        "count = 0\n",
        "\n",
        "while count<11:\n",
        "  print(count, end=' ')\n",
        "  count = count + 1"
      ],
      "execution_count": null,
      "outputs": [
        {
          "output_type": "stream",
          "name": "stdout",
          "text": [
            "0 1 2 3 4 5 6 7 8 9 10 "
          ]
        }
      ]
    },
    {
      "cell_type": "code",
      "metadata": {
        "id": "YVVL_htWBWsZ"
      },
      "source": [
        "import time\n",
        "\n",
        "while True:\n",
        "  print('a', end=' ')\n",
        "  time.sleep(3)"
      ],
      "execution_count": null,
      "outputs": []
    },
    {
      "cell_type": "code",
      "metadata": {
        "colab": {
          "base_uri": "https://localhost:8080/"
        },
        "id": "gWFABo0NBzcv",
        "outputId": "c3286fbf-b6cf-42e2-a5ad-db396540f6ce"
      },
      "source": [
        "import random\n",
        "import time\n",
        "\n",
        "mywin = 0\n",
        "comwin = 0\n",
        "\n",
        "while True:\n",
        "  num = random.randrange(1,4) # 1은 가위 2는 바위 3은 보\n",
        "  if num==1:\n",
        "      mywin = mywin + 1\n",
        "  elif num==3:\n",
        "    comwin = comwin + 1\n",
        "  print('여서윤 : {0} , 컴퓨터 : {1}'.format(mywin,comwin))\n",
        "  time.sleep(5)"
      ],
      "execution_count": null,
      "outputs": [
        {
          "output_type": "stream",
          "name": "stdout",
          "text": [
            "여서윤 : 0 , 컴퓨터 : 0\n"
          ]
        }
      ]
    }
  ]
}