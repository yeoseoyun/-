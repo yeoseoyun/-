{
  "nbformat": 4,
  "nbformat_minor": 0,
  "metadata": {
    "colab": {
      "name": "20211018-1.ipynb",
      "provenance": [],
      "authorship_tag": "ABX9TyPnURRSy/svtoSq20J1jc1g",
      "include_colab_link": true
    },
    "kernelspec": {
      "name": "python3",
      "display_name": "Python 3"
    },
    "language_info": {
      "name": "python"
    }
  },
  "cells": [
    {
      "cell_type": "markdown",
      "metadata": {
        "id": "view-in-github",
        "colab_type": "text"
      },
      "source": [
        "<a href=\"https://colab.research.google.com/github/yeoseoyun/-/blob/main/20211018_1.ipynb\" target=\"_parent\"><img src=\"https://colab.research.google.com/assets/colab-badge.svg\" alt=\"Open In Colab\"/></a>"
      ]
    },
    {
      "cell_type": "code",
      "metadata": {
        "id": "h_2TMwBCvyZe"
      },
      "source": [
        "def solution(age):\n",
        "  if age<19:\n",
        "    return '급식'\n",
        "  else:\n",
        "    return '성인'\n",
        "    "
      ],
      "execution_count": null,
      "outputs": []
    },
    {
      "cell_type": "code",
      "metadata": {
        "colab": {
          "base_uri": "https://localhost:8080/"
        },
        "id": "FbDB0Pu9284O",
        "outputId": "e7477db2-abec-435c-8da3-354f3db89430"
      },
      "source": [
        "print(solution(17))"
      ],
      "execution_count": null,
      "outputs": [
        {
          "output_type": "stream",
          "name": "stdout",
          "text": [
            "급식\n"
          ]
        }
      ]
    },
    {
      "cell_type": "code",
      "metadata": {
        "id": "BkymN9wc6eRW"
      },
      "source": [
        "def solution(height, weight):\n",
        "  height = height / 100\n",
        "  bmi = weight / (height * height)\n",
        "  if bmi < 18:\n",
        "    return '저체중'\n",
        "  elif 18<= bmi <=25:\n",
        "    return '정상'\n",
        "  elif 25<= bmi <=27:\n",
        "    return '과체중'\n",
        "  elif 27<= bmi:\n",
        "    return '비만'"
      ],
      "execution_count": null,
      "outputs": []
    },
    {
      "cell_type": "code",
      "metadata": {
        "colab": {
          "base_uri": "https://localhost:8080/",
          "height": 35
        },
        "id": "56zwFc-B9MRP",
        "outputId": "bbb1116d-987c-4ba0-c315-0fa9fc751727"
      },
      "source": [
        "solution(185,78)"
      ],
      "execution_count": null,
      "outputs": [
        {
          "output_type": "execute_result",
          "data": {
            "application/vnd.google.colaboratory.intrinsic+json": {
              "type": "string"
            },
            "text/plain": [
              "'정상'"
            ]
          },
          "metadata": {},
          "execution_count": 41
        }
      ]
    }
  ]
}