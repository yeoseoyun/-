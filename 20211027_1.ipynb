{
  "nbformat": 4,
  "nbformat_minor": 0,
  "metadata": {
    "colab": {
      "name": "20211027-1.ipynb",
      "provenance": [],
      "authorship_tag": "ABX9TyO3kETovgQ1ZMhFsNJigMU+",
      "include_colab_link": true
    },
    "kernelspec": {
      "name": "python3",
      "display_name": "Python 3"
    },
    "language_info": {
      "name": "python"
    }
  },
  "cells": [
    {
      "cell_type": "markdown",
      "metadata": {
        "id": "view-in-github",
        "colab_type": "text"
      },
      "source": [
        "<a href=\"https://colab.research.google.com/github/yeoseoyun/-/blob/main/20211027_1.ipynb\" target=\"_parent\"><img src=\"https://colab.research.google.com/assets/colab-badge.svg\" alt=\"Open In Colab\"/></a>"
      ]
    },
    {
      "cell_type": "code",
      "metadata": {
        "colab": {
          "base_uri": "https://localhost:8080/"
        },
        "id": "DXwbt6uTbAZw",
        "outputId": "c2870aa2-1e88-4361-c61b-d1b6afdcb554"
      },
      "source": [
        "i = 1\n",
        "\n",
        "count = 0\n",
        "\n",
        "while i <= 120:\n",
        "\n",
        "    if 120 % i == 0:\n",
        "\n",
        "        print(i)\n",
        "\n",
        "        count += 1\n",
        "\n",
        "    i += 1\n",
        "\n",
        "print(\"120의 약수는 총 %d개 입니다.\" % count)"
      ],
      "execution_count": null,
      "outputs": [
        {
          "output_type": "stream",
          "name": "stdout",
          "text": [
            "1\n",
            "2\n",
            "3\n",
            "4\n",
            "5\n",
            "6\n",
            "8\n",
            "10\n",
            "12\n",
            "15\n",
            "20\n",
            "24\n",
            "30\n",
            "40\n",
            "60\n",
            "120\n",
            "120의 약수는 총 16개 입니다.\n"
          ]
        }
      ]
    }
  ]
}