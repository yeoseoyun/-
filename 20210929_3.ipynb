{
  "nbformat": 4,
  "nbformat_minor": 0,
  "metadata": {
    "colab": {
      "name": "20210929-3.ipynb",
      "provenance": [],
      "authorship_tag": "ABX9TyMy2JmZaZm9N7r03+Uf+DHC",
      "include_colab_link": true
    },
    "kernelspec": {
      "name": "python3",
      "display_name": "Python 3"
    },
    "language_info": {
      "name": "python"
    }
  },
  "cells": [
    {
      "cell_type": "markdown",
      "metadata": {
        "id": "view-in-github",
        "colab_type": "text"
      },
      "source": [
        "<a href=\"https://colab.research.google.com/github/yeoseoyun/-/blob/main/20210929_3.ipynb\" target=\"_parent\"><img src=\"https://colab.research.google.com/assets/colab-badge.svg\" alt=\"Open In Colab\"/></a>"
      ]
    },
    {
      "cell_type": "code",
      "metadata": {
        "colab": {
          "base_uri": "https://localhost:8080/"
        },
        "id": "BPVJ_QXmQFDb",
        "outputId": "a8657137-3341-4f7a-af48-4b67e9fb6bec"
      },
      "source": [
        "a = {1,2,3}\n",
        "print(a)\n",
        "a.add(7)\n",
        "print(a)\n",
        "a.add(1)\n",
        "print(a)\n",
        "print(len(a))"
      ],
      "execution_count": null,
      "outputs": [
        {
          "output_type": "stream",
          "name": "stdout",
          "text": [
            "{1, 2, 3}\n",
            "{1, 2, 3, 7}\n",
            "{1, 2, 3, 7}\n",
            "4\n"
          ]
        }
      ]
    },
    {
      "cell_type": "code",
      "metadata": {
        "colab": {
          "base_uri": "https://localhost:8080/"
        },
        "id": "gECcTAG-Q_wt",
        "outputId": "b50137d6-d82e-409d-ca29-4ce49efe3780"
      },
      "source": [
        "import random\n",
        "\n",
        "lotto = set()\n",
        "#print(type(lotto))\n",
        "count = 0\n",
        "while len(lotto)<6 :\n",
        "  lotto.add(random.randrange(1,46))\n",
        "  count = count + 1\n",
        "\n",
        "print(lotto)\n",
        "print(count)\n",
        "# "
      ],
      "execution_count": null,
      "outputs": [
        {
          "output_type": "stream",
          "name": "stdout",
          "text": [
            "{37, 41, 44, 13, 21, 30}\n",
            "6\n"
          ]
        }
      ]
    }
  ]
}